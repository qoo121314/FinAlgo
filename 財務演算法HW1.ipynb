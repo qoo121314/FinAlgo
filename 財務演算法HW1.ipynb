{
 "cells": [
  {
   "cell_type": "markdown",
   "metadata": {},
   "source": [
    "# 前置作業"
   ]
  },
  {
   "cell_type": "markdown",
   "metadata": {},
   "source": [
    "### 用Quantlib算的價格"
   ]
  },
  {
   "cell_type": "code",
   "execution_count": 1,
   "metadata": {},
   "outputs": [],
   "source": [
    "import QuantLib as ql\n",
    "\n",
    "maturity_date = ql.Date(30, 9, 2020)\n",
    "spot_price = 100\n",
    "strike_price = 100\n",
    "volatility = (0.25+0.30)/2  # the historical vols for a year\n",
    "dividend_rate =  0\n",
    "option_type = ql.Option.Call\n",
    "\n",
    "risk_free_rate = (0.025+0.028)/2\n",
    "day_count = ql.Actual365Fixed()\n",
    "calendar = ql.Taiwan()\n",
    "\n",
    "calculation_date = ql.Date(1, 1, 2020)\n",
    "ql.Settings.instance().evaluationDate = calculation_date"
   ]
  },
  {
   "cell_type": "code",
   "execution_count": 2,
   "metadata": {},
   "outputs": [],
   "source": [
    "payoff = ql.PlainVanillaPayoff(option_type, strike_price)\n",
    "exercise = ql.EuropeanExercise(maturity_date)\n",
    "european_option = ql.VanillaOption(payoff, exercise)"
   ]
  },
  {
   "cell_type": "code",
   "execution_count": 3,
   "metadata": {},
   "outputs": [],
   "source": [
    "spot_handle = ql.QuoteHandle(\n",
    "    ql.SimpleQuote(spot_price)\n",
    ")\n",
    "flat_ts = ql.YieldTermStructureHandle(\n",
    "    ql.FlatForward(calculation_date, risk_free_rate, day_count)\n",
    ")\n",
    "dividend_yield = ql.YieldTermStructureHandle(\n",
    "    ql.FlatForward(calculation_date, dividend_rate, day_count)\n",
    ")\n",
    "flat_vol_ts = ql.BlackVolTermStructureHandle(\n",
    "    ql.BlackConstantVol(calculation_date, calendar, volatility, day_count)\n",
    ")\n",
    "bsm_process = ql.BlackScholesMertonProcess(spot_handle, \n",
    "                                           dividend_yield, \n",
    "                                           flat_ts, \n",
    "                                           flat_vol_ts)"
   ]
  },
  {
   "cell_type": "code",
   "execution_count": 4,
   "metadata": {},
   "outputs": [
    {
     "name": "stdout",
     "output_type": "stream",
     "text": [
      "The theoretical price is  10.38651266481682\n"
     ]
    }
   ],
   "source": [
    "european_option.setPricingEngine(ql.AnalyticEuropeanEngine(bsm_process))\n",
    "bs_price = european_option.NPV()\n",
    "print (\"The theoretical price is \", bs_price)"
   ]
  },
  {
   "cell_type": "code",
   "execution_count": 5,
   "metadata": {},
   "outputs": [
    {
     "data": {
      "text/plain": [
       "0.5801410058585631"
      ]
     },
     "execution_count": 5,
     "metadata": {},
     "output_type": "execute_result"
    }
   ],
   "source": [
    "european_option.delta()"
   ]
  },
  {
   "cell_type": "code",
   "execution_count": 6,
   "metadata": {},
   "outputs": [
    {
     "name": "stdout",
     "output_type": "stream",
     "text": [
      "Option value = 10.38651266481682\n",
      "Delta value  = 0.5801410058585631\n",
      "Theta value  = -7.476472080013835\n",
      "Theta perday = -0.020483485150722836\n",
      "Gamma value  = 0.016434620826727357\n",
      "Vega value   = 33.80353859086455\n",
      "Rho value    = 35.62282603409256\n"
     ]
    }
   ],
   "source": [
    "print(\"Option value =\", european_option.NPV())\n",
    "print(\"Delta value  =\", european_option.delta())\n",
    "print(\"Theta value  =\", european_option.theta())\n",
    "print(\"Theta perday =\", european_option.thetaPerDay())\n",
    "print(\"Gamma value  =\", european_option.gamma())\n",
    "print(\"Vega value   =\", european_option.vega())\n",
    "print(\"Rho value    =\", european_option.rho())"
   ]
  },
  {
   "cell_type": "markdown",
   "metadata": {},
   "source": [
    "# 自己算的版本Vanilla Option Price"
   ]
  },
  {
   "cell_type": "markdown",
   "metadata": {},
   "source": [
    "## Option Price"
   ]
  },
  {
   "cell_type": "code",
   "execution_count": 7,
   "metadata": {},
   "outputs": [],
   "source": [
    "import numpy as np\n",
    "from scipy import stats"
   ]
  },
  {
   "cell_type": "code",
   "execution_count": 8,
   "metadata": {},
   "outputs": [],
   "source": [
    "# 作業的參數\n",
    "S=100\n",
    "K=100\n",
    "volatility = (0.25+0.30)/2\n",
    "risk_free_rate = (0.025+0.028)/2\n",
    "T=9/12"
   ]
  },
  {
   "cell_type": "code",
   "execution_count": 9,
   "metadata": {},
   "outputs": [],
   "source": [
    "# d_1 = (np.log(S/K)+T*(risk_free_rate+0.5*volatility*volatility))/ (volatility*np.sqrt(T) )"
   ]
  },
  {
   "cell_type": "code",
   "execution_count": 10,
   "metadata": {},
   "outputs": [],
   "source": [
    "# d_2 = d_1-(volatility*np.sqrt(T) )"
   ]
  },
  {
   "cell_type": "code",
   "execution_count": 11,
   "metadata": {},
   "outputs": [],
   "source": [
    "# bs_price_handmade = S*stats.norm.cdf(d_1)-K*np.exp(-risk_free_rate*T)*stats.norm.cdf(d_2)"
   ]
  },
  {
   "cell_type": "code",
   "execution_count": 12,
   "metadata": {},
   "outputs": [],
   "source": [
    "def BlackScholes(S=100, K=100, r=(0.025+0.028)/2, T=9/12, vol=(0.25+0.30)/2, option='call'):\n",
    "    d_1 = (np.log(S/K)+T*(r+0.5*vol*vol))/ (vol*np.sqrt(T) )\n",
    "    d_2 = d_1-(volatility*np.sqrt(T) )\n",
    "    if option=='call':\n",
    "        bs_price_handmade = S*stats.norm.cdf(d_1)-K*np.exp(-risk_free_rate*T)*stats.norm.cdf(d_2)\n",
    "    elif option=='put':\n",
    "        bs_price_handmade = K*np.exp(-risk_free_rate*T)*stats.norm.cdf(-d_2)   -  S*stats.norm.cdf(-d_1)\n",
    "    \n",
    "    return bs_price_handmade"
   ]
  },
  {
   "cell_type": "code",
   "execution_count": 13,
   "metadata": {},
   "outputs": [
    {
     "name": "stdout",
     "output_type": "stream",
     "text": [
      "The calculated call option price is  10.401866039649548\n",
      "The calculated put option price is  8.43398661955353\n"
     ]
    }
   ],
   "source": [
    "print (\"The calculated call option price is \", BlackScholes())\n",
    "print (\"The calculated put option price is \", BlackScholes(option='put'))"
   ]
  },
  {
   "cell_type": "markdown",
   "metadata": {},
   "source": [
    "# 求Delta"
   ]
  },
  {
   "cell_type": "markdown",
   "metadata": {},
   "source": [
    " ### 差分"
   ]
  },
  {
   "cell_type": "code",
   "execution_count": 64,
   "metadata": {},
   "outputs": [],
   "source": [
    "def BS_delta(delta=0.01, option='call'):\n",
    "    return (BlackScholes(S=100+delta, option=option)-BlackScholes(option=option) )  /  delta"
   ]
  },
  {
   "cell_type": "code",
   "execution_count": 65,
   "metadata": {},
   "outputs": [
    {
     "name": "stdout",
     "output_type": "stream",
     "text": [
      "The calculated call option delta by numeric is  0.5803315700305234\n",
      "The calculated put option delta by numeric is  -0.4196684299685671\n"
     ]
    }
   ],
   "source": [
    "print (\"The calculated call option delta by numeric is \", BS_delta())\n",
    "print (\"The calculated put option delta by numeric is \", BS_delta(option='put'))"
   ]
  },
  {
   "cell_type": "markdown",
   "metadata": {},
   "source": [
    "### 公式解"
   ]
  },
  {
   "cell_type": "markdown",
   "metadata": {},
   "source": [
    "Call: $N(d_1)$\n",
    "\n",
    "Put:$-N(-d_1)=N(d1)-1$"
   ]
  },
  {
   "cell_type": "code",
   "execution_count": 16,
   "metadata": {},
   "outputs": [],
   "source": [
    "def BS_delta_fomula(S=100, K=100, r=(0.025+0.028)/2, T=9/12, vol=(0.25+0.30)/2, option='call'):\n",
    "    d_1 = (np.log(S/K)+T*(r+0.5*vol*vol))/ (vol*np.sqrt(T) )\n",
    "    if option=='call':\n",
    "        delta = stats.norm.cdf(d_1)\n",
    "    elif option=='put':\n",
    "        delta = -stats.norm.cdf(-d_1)\n",
    "    return delta"
   ]
  },
  {
   "cell_type": "code",
   "execution_count": 17,
   "metadata": {},
   "outputs": [
    {
     "name": "stdout",
     "output_type": "stream",
     "text": [
      "The calculated call option delta by formula is  0.580249519243984\n",
      "The calculated put option delta by formula is  -0.419750480756016\n"
     ]
    }
   ],
   "source": [
    "print (\"The calculated call option delta by formula is \", BS_delta_fomula())\n",
    "print (\"The calculated put option delta by formula is \", BS_delta_fomula(option='put'))"
   ]
  },
  {
   "cell_type": "markdown",
   "metadata": {},
   "source": [
    "#  求Vega"
   ]
  },
  {
   "cell_type": "markdown",
   "metadata": {},
   "source": [
    "### 差分"
   ]
  },
  {
   "cell_type": "code",
   "execution_count": 18,
   "metadata": {},
   "outputs": [],
   "source": [
    "def BS_vega(delta=0.01, option='call'):\n",
    "    return (BlackScholes(vol=(0.25+0.30)/2+delta, option=option)-BlackScholes(option=option) )  /  delta"
   ]
  },
  {
   "cell_type": "code",
   "execution_count": 19,
   "metadata": {},
   "outputs": [
    {
     "data": {
      "text/plain": [
       "-7.823999226275191e-06"
      ]
     },
     "execution_count": 19,
     "metadata": {},
     "output_type": "execute_result"
    }
   ],
   "source": [
    "BS_vega(.0001)"
   ]
  },
  {
   "cell_type": "markdown",
   "metadata": {},
   "source": [
    "### 數字很奇怪，所以畫圖分析看看問題"
   ]
  },
  {
   "cell_type": "code",
   "execution_count": 20,
   "metadata": {},
   "outputs": [],
   "source": [
    "a= np.linspace(-0.05,0.5,200)"
   ]
  },
  {
   "cell_type": "code",
   "execution_count": 21,
   "metadata": {},
   "outputs": [],
   "source": [
    "import matplotlib.pyplot as plt\n",
    "import seaborn as sns"
   ]
  },
  {
   "cell_type": "code",
   "execution_count": 22,
   "metadata": {},
   "outputs": [
    {
     "data": {
      "text/plain": [
       "<matplotlib.lines.Line2D at 0x24abd192e10>"
      ]
     },
     "execution_count": 22,
     "metadata": {},
     "output_type": "execute_result"
    },
    {
     "data": {
      "image/png": "[encoded data removed]",
      "text/plain": [
       "<Figure size 432x288 with 1 Axes>"
      ]
     },
     "metadata": {
      "needs_background": "light"
     },
     "output_type": "display_data"
    }
   ],
   "source": [
    "sns.lineplot(y= BlackScholes(vol= (0.25+0.30)/2+a), x=a+(0.25+0.30))\n",
    "plt.axvline(0.25+0.30, linestyle='--', color='k')"
   ]
  },
  {
   "cell_type": "markdown",
   "metadata": {},
   "source": [
    "還是不知道怎麼處理所以改用公式解"
   ]
  },
  {
   "cell_type": "markdown",
   "metadata": {},
   "source": [
    "## 公式解"
   ]
  },
  {
   "cell_type": "markdown",
   "metadata": {},
   "source": [
    "#### $ν = S\\sqrt{T} \\phi(d_1)$"
   ]
  },
  {
   "cell_type": "markdown",
   "metadata": {},
   "source": [
    "Both identical for call and put"
   ]
  },
  {
   "cell_type": "code",
   "execution_count": 23,
   "metadata": {},
   "outputs": [],
   "source": [
    "# S*np.sqrt(T)*stats.norm.pdf(d_1)"
   ]
  },
  {
   "cell_type": "code",
   "execution_count": 24,
   "metadata": {},
   "outputs": [],
   "source": [
    "def BS_vega_formula(S=100, K=100, r=(0.025+0.028)/2, T=9/12, vol=(0.25+0.30)/2):\n",
    "    d_1 = (np.log(S/K)+T*(r+0.5*vol*vol))   / (vol*np.sqrt(T))\n",
    "    return S*np.sqrt(T)*stats.norm.pdf(d_1)"
   ]
  },
  {
   "cell_type": "code",
   "execution_count": 25,
   "metadata": {},
   "outputs": [
    {
     "data": {
      "text/plain": [
       "33.848038180051155"
      ]
     },
     "execution_count": 25,
     "metadata": {},
     "output_type": "execute_result"
    }
   ],
   "source": [
    "BS_vega_formula()"
   ]
  },
  {
   "cell_type": "code",
   "execution_count": 26,
   "metadata": {},
   "outputs": [
    {
     "name": "stdout",
     "output_type": "stream",
     "text": [
      "The calculated put and call option vega by formula is  33.848038180051155\n"
     ]
    }
   ],
   "source": [
    "print (\"The calculated put and call option vega by formula is \", BS_vega_formula())"
   ]
  },
  {
   "cell_type": "markdown",
   "metadata": {},
   "source": [
    "#  求Gamma"
   ]
  },
  {
   "cell_type": "markdown",
   "metadata": {},
   "source": [
    "### 差分:用Delta公式來差分"
   ]
  },
  {
   "cell_type": "code",
   "execution_count": 27,
   "metadata": {},
   "outputs": [],
   "source": [
    "def BS_gamma_fomula(S=100, K=100, r=(0.025+0.028)/2, T=9/12, vol=(0.25+0.30)/2, option='call', delta=0.01):\n",
    "    d_1 = (np.log(S/K)+T*(r+0.5*vol*vol))/ (vol*np.sqrt(T) )\n",
    "    d_2 = (np.log((S+delta)/K)+T*(r+0.5*vol*vol))/ (vol*np.sqrt(T) )\n",
    "    if option=='call':\n",
    "        gamma = (stats.norm.cdf(d_2) - stats.norm.cdf(d_1)) / delta\n",
    "    elif option=='put':\n",
    "        gamma = (-stats.norm.cdf(-d_2) - (-stats.norm.cdf(-d_1)))  / delta\n",
    "    return gamma"
   ]
  },
  {
   "cell_type": "code",
   "execution_count": 28,
   "metadata": {},
   "outputs": [
    {
     "name": "stdout",
     "output_type": "stream",
     "text": [
      "The calculated call option gamma by formula is  0.016409651316495744\n",
      "The calculated put option gamma by formula is  0.016409651316506846\n"
     ]
    }
   ],
   "source": [
    "print (\"The calculated call option gamma by formula is \", BS_gamma_fomula())\n",
    "print (\"The calculated put option gamma by formula is \", BS_gamma_fomula(option='put'))"
   ]
  },
  {
   "cell_type": "markdown",
   "metadata": {},
   "source": [
    "### 公式解"
   ]
  },
  {
   "cell_type": "markdown",
   "metadata": {},
   "source": [
    "### $\\frac{N'(d_1)}{S\\sigma\\sqrt{T}}$"
   ]
  },
  {
   "cell_type": "code",
   "execution_count": 29,
   "metadata": {},
   "outputs": [],
   "source": [
    "def BS_gamma_formula(S=100, K=100, r=(0.025+0.028)/2, T=9/12, vol=(0.25+0.30)/2):\n",
    "    d_1 = (np.log(S/K)+T*(r+0.5*vol*vol))   / (vol*np.sqrt(T))\n",
    "    return stats.norm.pdf(d_1)/(S*vol*np.sqrt(T))"
   ]
  },
  {
   "cell_type": "code",
   "execution_count": 30,
   "metadata": {},
   "outputs": [
    {
     "data": {
      "text/plain": [
       "0.016411170026691468"
      ]
     },
     "execution_count": 30,
     "metadata": {},
     "output_type": "execute_result"
    }
   ],
   "source": [
    "BS_gamma_formula()"
   ]
  },
  {
   "cell_type": "markdown",
   "metadata": {},
   "source": [
    "# 解Basel問題"
   ]
  },
  {
   "cell_type": "markdown",
   "metadata": {},
   "source": [
    "## Q1.一大型先進經濟體電信股股票歐式陽春型 Call 選擇權，賣出 1000 股部位。請問此部位需計提多少市場風險資本?"
   ]
  },
  {
   "cell_type": "markdown",
   "metadata": {},
   "source": [
    "### 參數設定"
   ]
  },
  {
   "cell_type": "code",
   "execution_count": 31,
   "metadata": {},
   "outputs": [],
   "source": [
    "S = 100\n",
    "K = 100\n",
    "T = 9 / 12\n",
    "\n",
    "r_1 = 0.02\n",
    "r_3 = 0.0225\n",
    "r_6 = 0.025\n",
    "r_12 = 0.028\n",
    "\n",
    "sigma6 = 0.25\n",
    "sigma12 = 0.3"
   ]
  },
  {
   "cell_type": "markdown",
   "metadata": {},
   "source": [
    "### 用內插法簡易計算9個月的r以及9個月的volitility"
   ]
  },
  {
   "cell_type": "code",
   "execution_count": 32,
   "metadata": {},
   "outputs": [],
   "source": [
    "r_9 = (r_6+r_12)/2\n",
    "sigma9 = (sigma6+sigma12)/2"
   ]
  },
  {
   "cell_type": "markdown",
   "metadata": {},
   "source": [
    "### Delta部分"
   ]
  },
  {
   "cell_type": "markdown",
   "metadata": {},
   "source": [
    "根據 Basel 文件(MAR 21.77, p57)，大型先進市場電信股票權數為 35%"
   ]
  },
  {
   "cell_type": "markdown",
   "metadata": {},
   "source": [
    "Delta 風險量乘上風險權數(Risk Weight)，求得加權敏感性(Weighted Sensitivity)"
   ]
  },
  {
   "cell_type": "markdown",
   "metadata": {},
   "source": [
    "$WS_k = RW_k \\times s_k$"
   ]
  },
  {
   "cell_type": "code",
   "execution_count": 33,
   "metadata": {},
   "outputs": [
    {
     "data": {
      "text/plain": [
       "203.11604951068318"
      ]
     },
     "execution_count": 33,
     "metadata": {},
     "output_type": "execute_result"
    }
   ],
   "source": [
    "Kb_delta = BS_delta() *0.35*1000\n",
    "Kb_delta"
   ]
  },
  {
   "cell_type": "markdown",
   "metadata": {},
   "source": [
    "### Vega部分"
   ]
  },
  {
   "cell_type": "markdown",
   "metadata": {},
   "source": [
    "$s_k = vega \\times implied\\, volatility$"
   ]
  },
  {
   "cell_type": "markdown",
   "metadata": {},
   "source": [
    "$WS_k = RW_k \\times s_k$"
   ]
  },
  {
   "cell_type": "code",
   "execution_count": 34,
   "metadata": {},
   "outputs": [
    {
     "data": {
      "text/plain": [
       "3257.8736748299234"
      ]
     },
     "execution_count": 34,
     "metadata": {},
     "output_type": "execute_result"
    }
   ],
   "source": [
    "Kb_vega = 0.35*BS_vega_formula()*sigma9*1000\n",
    "Kb_vega"
   ]
  },
  {
   "cell_type": "markdown",
   "metadata": {},
   "source": [
    "###  Curvature 部分"
   ]
  },
  {
   "cell_type": "code",
   "execution_count": 35,
   "metadata": {},
   "outputs": [
    {
     "data": {
      "text/plain": [
       "-27.493477347394276"
      ]
     },
     "execution_count": 35,
     "metadata": {},
     "output_type": "execute_result"
    }
   ],
   "source": [
    "CVR_Pos = -(BlackScholes(S=100+0.35*100, option='call')-BlackScholes(S=100, option='call')- 0.35 * BS_delta())\n",
    "CVR_Pos"
   ]
  },
  {
   "cell_type": "code",
   "execution_count": 36,
   "metadata": {},
   "outputs": [
    {
     "data": {
      "text/plain": [
       "9.873747323762592"
      ]
     },
     "execution_count": 36,
     "metadata": {},
     "output_type": "execute_result"
    }
   ],
   "source": [
    "CVR_Neg = -(BlackScholes(S=100-0.35*100, option='call')-BlackScholes(S=100, option='call') + 0.35 * BS_delta())\n",
    "CVR_Neg"
   ]
  },
  {
   "cell_type": "code",
   "execution_count": 37,
   "metadata": {},
   "outputs": [
    {
     "data": {
      "text/plain": [
       "0.0"
      ]
     },
     "execution_count": 37,
     "metadata": {},
     "output_type": "execute_result"
    }
   ],
   "source": [
    "Kb_pos = np.sqrt(max(0, max(CVR_Pos, 0)**2))\n",
    "Kb_pos"
   ]
  },
  {
   "cell_type": "code",
   "execution_count": 38,
   "metadata": {},
   "outputs": [
    {
     "data": {
      "text/plain": [
       "9.873747323762592"
      ]
     },
     "execution_count": 38,
     "metadata": {},
     "output_type": "execute_result"
    }
   ],
   "source": [
    "Kb_neg = np.sqrt(max(0, max(CVR_Neg, 0)**2))\n",
    "Kb_neg"
   ]
  },
  {
   "cell_type": "code",
   "execution_count": 39,
   "metadata": {},
   "outputs": [],
   "source": [
    "Kb= max(Kb_pos, Kb_neg)"
   ]
  },
  {
   "cell_type": "code",
   "execution_count": 40,
   "metadata": {},
   "outputs": [
    {
     "data": {
      "text/plain": [
       "9873.74732376259"
      ]
     },
     "execution_count": 40,
     "metadata": {},
     "output_type": "execute_result"
    }
   ],
   "source": [
    "Kb_Curv = Kb*1000\n",
    "Kb_Curv"
   ]
  },
  {
   "cell_type": "code",
   "execution_count": 41,
   "metadata": {},
   "outputs": [
    {
     "name": "stdout",
     "output_type": "stream",
     "text": [
      "From Delta : 203.11604951068318 \n",
      "From Vega : 3257.8736748299234 \n",
      "From Curvature: 9873.74732376259 \n",
      "\n",
      "Total : 13334.737048103198\n",
      "標的資產價格 : 100,000\n",
      "自有資本計提率: 13.334737%\n"
     ]
    }
   ],
   "source": [
    "print(\"From Delta : {} \\nFrom Vega : {} \\nFrom Curvature: {} \\n\\nTotal : {}\".format(Kb_delta, Kb_vega, Kb_Curv, \\\n",
    "                                                                            Kb_delta + Kb_vega + Kb_Curv))\n",
    "\n",
    "print(\"標的資產價格 : 100,000\\n自有資本計提率: {:%}\".format(( Kb_delta + Kb_vega + Kb_Curv)/100000))"
   ]
  },
  {
   "cell_type": "markdown",
   "metadata": {},
   "source": [
    "## Q2.在Q1的條件下，同時再加入一個同樣條件的Put選擇權，則共需多少自有資金?"
   ]
  },
  {
   "cell_type": "code",
   "execution_count": 59,
   "metadata": {},
   "outputs": [
    {
     "name": "stdout",
     "output_type": "stream",
     "text": [
      "10.401866039649548\n",
      "8.43398661955353\n"
     ]
    }
   ],
   "source": [
    "#Price\n",
    "print(BlackScholes())\n",
    "print(BlackScholes(option='put'))"
   ]
  },
  {
   "cell_type": "markdown",
   "metadata": {},
   "source": [
    "### Delta部分"
   ]
  },
  {
   "cell_type": "code",
   "execution_count": 43,
   "metadata": {},
   "outputs": [
    {
     "data": {
      "text/plain": [
       "203.11604951068318"
      ]
     },
     "execution_count": 43,
     "metadata": {},
     "output_type": "execute_result"
    }
   ],
   "source": [
    "Delta_Call = BS_delta() *0.35*1000\n",
    "Delta_Call"
   ]
  },
  {
   "cell_type": "code",
   "execution_count": 44,
   "metadata": {},
   "outputs": [
    {
     "data": {
      "text/plain": [
       "-146.8839504889985"
      ]
     },
     "execution_count": 44,
     "metadata": {},
     "output_type": "execute_result"
    }
   ],
   "source": [
    "Delta_Put = BS_delta(option='put') *0.35*1000\n",
    "Delta_Put"
   ]
  },
  {
   "cell_type": "code",
   "execution_count": 45,
   "metadata": {},
   "outputs": [],
   "source": [
    "Kb_delta = np.sqrt( max(0, Delta_Call**2 + Delta_Put**2 + 2 *Delta_Call *  Delta_Put) )"
   ]
  },
  {
   "cell_type": "code",
   "execution_count": 46,
   "metadata": {},
   "outputs": [
    {
     "data": {
      "text/plain": [
       "56.232099021684725"
      ]
     },
     "execution_count": 46,
     "metadata": {},
     "output_type": "execute_result"
    }
   ],
   "source": [
    "Kb_delta"
   ]
  },
  {
   "cell_type": "markdown",
   "metadata": {},
   "source": [
    "### Vega部分"
   ]
  },
  {
   "cell_type": "code",
   "execution_count": 47,
   "metadata": {},
   "outputs": [
    {
     "data": {
      "text/plain": [
       "3257.8736748299234"
      ]
     },
     "execution_count": 47,
     "metadata": {},
     "output_type": "execute_result"
    }
   ],
   "source": [
    "Vega_call = 0.35*BS_vega_formula()*sigma9*1000\n",
    "Vega_call"
   ]
  },
  {
   "cell_type": "code",
   "execution_count": 48,
   "metadata": {},
   "outputs": [
    {
     "data": {
      "text/plain": [
       "3257.8736748299234"
      ]
     },
     "execution_count": 48,
     "metadata": {},
     "output_type": "execute_result"
    }
   ],
   "source": [
    "Vega_put = 0.35*BS_vega_formula()*sigma9*1000\n",
    "Vega_put"
   ]
  },
  {
   "cell_type": "code",
   "execution_count": 49,
   "metadata": {},
   "outputs": [
    {
     "data": {
      "text/plain": [
       "1.0"
      ]
     },
     "execution_count": 49,
     "metadata": {},
     "output_type": "execute_result"
    }
   ],
   "source": [
    "rho = min (1 * np.exp(-1* 0/1), 1)\n",
    "rho"
   ]
  },
  {
   "cell_type": "code",
   "execution_count": 50,
   "metadata": {},
   "outputs": [
    {
     "data": {
      "text/plain": [
       "6515.747349659847"
      ]
     },
     "execution_count": 50,
     "metadata": {},
     "output_type": "execute_result"
    }
   ],
   "source": [
    "Kb_vega = np.sqrt( max(0, Vega_call**2 + Vega_put**2 + 2 *Vega_call *  Vega_put) )\n",
    "Kb_vega"
   ]
  },
  {
   "cell_type": "markdown",
   "metadata": {},
   "source": [
    "### Curvature部分"
   ]
  },
  {
   "cell_type": "code",
   "execution_count": 51,
   "metadata": {},
   "outputs": [
    {
     "data": {
      "text/plain": [
       "-19.986954694788555"
      ]
     },
     "execution_count": 51,
     "metadata": {},
     "output_type": "execute_result"
    }
   ],
   "source": [
    "CVR_Pos = -(BlackScholes(S=100+0.35*100, option='call')-BlackScholes(S=100, option='call')- 0.35 * BS_delta()+\\\n",
    "            BlackScholes(S=100+0.35*100, option='put')-BlackScholes(S=100, option='put')- 0.35 * BS_delta()\n",
    "           )\n",
    "CVR_Pos"
   ]
  },
  {
   "cell_type": "code",
   "execution_count": 52,
   "metadata": {},
   "outputs": [
    {
     "data": {
      "text/plain": [
       "-15.25250535247482"
      ]
     },
     "execution_count": 52,
     "metadata": {},
     "output_type": "execute_result"
    }
   ],
   "source": [
    "CVR_Neg = -(BlackScholes(S=100-0.35*100, option='call')-BlackScholes(S=100, option='call') + 0.35 * BS_delta()+\\\n",
    "           BlackScholes(S=100-0.35*100, option='put')-BlackScholes(S=100, option='put') + 0.35 * BS_delta()\n",
    "           )\n",
    "CVR_Neg"
   ]
  },
  {
   "cell_type": "code",
   "execution_count": 53,
   "metadata": {},
   "outputs": [
    {
     "data": {
      "text/plain": [
       "0.0"
      ]
     },
     "execution_count": 53,
     "metadata": {},
     "output_type": "execute_result"
    }
   ],
   "source": [
    "Kb_pos = np.sqrt(max(0, max(CVR_Pos, 0)**2))\n",
    "Kb_pos"
   ]
  },
  {
   "cell_type": "code",
   "execution_count": 54,
   "metadata": {},
   "outputs": [
    {
     "data": {
      "text/plain": [
       "0.0"
      ]
     },
     "execution_count": 54,
     "metadata": {},
     "output_type": "execute_result"
    }
   ],
   "source": [
    "Kb_neg = np.sqrt(max(0, max(CVR_Neg, 0)**2))\n",
    "Kb_neg"
   ]
  },
  {
   "cell_type": "code",
   "execution_count": 55,
   "metadata": {},
   "outputs": [],
   "source": [
    "Kb= max(Kb_pos, Kb_neg)"
   ]
  },
  {
   "cell_type": "code",
   "execution_count": 56,
   "metadata": {},
   "outputs": [
    {
     "data": {
      "text/plain": [
       "0.0"
      ]
     },
     "execution_count": 56,
     "metadata": {},
     "output_type": "execute_result"
    }
   ],
   "source": [
    "Kb_Curv = Kb*1000\n",
    "Kb_Curv"
   ]
  },
  {
   "cell_type": "code",
   "execution_count": 58,
   "metadata": {},
   "outputs": [
    {
     "name": "stdout",
     "output_type": "stream",
     "text": [
      "From Delta : 56.232099021684725 \n",
      "From Vega : 6515.747349659847 \n",
      "From Curvature: 0.0 \n",
      "\n",
      "Total : 6571.979448681532\n",
      "標的資產價格 : 200,000\n",
      "自有資本計提率: 3.285990%\n"
     ]
    }
   ],
   "source": [
    "print(\"From Delta : {} \\nFrom Vega : {} \\nFrom Curvature: {} \\n\\nTotal : {}\".format(Kb_delta, Kb_vega, Kb_Curv, \\\n",
    "                                                                            Kb_delta + Kb_vega + Kb_Curv))\n",
    "\n",
    "print(\"標的資產價格 : 200,000\\n自有資本計提率: {:%}\".format(( Kb_delta + Kb_vega + Kb_Curv)/200000))"
   ]
  },
  {
   "cell_type": "code",
   "execution_count": null,
   "metadata": {},
   "outputs": [],
   "source": []
  }
 ],
 "metadata": {
  "kernelspec": {
   "display_name": "Python 3",
   "language": "python",
   "name": "python3"
  },
  "language_info": {
   "codemirror_mode": {
    "name": "ipython",
    "version": 3
   },
   "file_extension": ".py",
   "mimetype": "text/x-python",
   "name": "python",
   "nbconvert_exporter": "python",
   "pygments_lexer": "ipython3",
   "version": "3.7.3"
  },
  "varInspector": {
   "cols": {
    "lenName": 16,
    "lenType": 16,
    "lenVar": 40
   },
   "kernels_config": {
    "python": {
     "delete_cmd_postfix": "",
     "delete_cmd_prefix": "del ",
     "library": "var_list.py",
     "varRefreshCmd": "print(var_dic_list())"
    },
    "r": {
     "delete_cmd_postfix": ") ",
     "delete_cmd_prefix": "rm(",
     "library": "var_list.r",
     "varRefreshCmd": "cat(var_dic_list()) "
    }
   },
   "types_to_exclude": [
    "module",
    "function",
    "builtin_function_or_method",
    "instance",
    "_Feature"
   ],
   "window_display": false
  }
 },
 "nbformat": 4,
 "nbformat_minor": 4
}
